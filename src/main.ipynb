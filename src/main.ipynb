{
 "cells": [
  {
   "cell_type": "code",
   "execution_count": null,
   "metadata": {},
   "outputs": [],
   "source": [
    "from models.knn_classifier import KNNClassifier\n",
    "\n",
    "knn = KNNClassifier()"
   ]
  },
  {
   "cell_type": "code",
   "execution_count": null,
   "metadata": {},
   "outputs": [],
   "source": [
    "import cv2\n",
    "import numpy as np\n",
    "from matplotlib import pyplot as plt\n",
    "\n",
    "# image = np.frombuffer(image.read(), np.uint8)\n",
    "# image = cv2.imdecode(image, cv2.IMREAD_GRAYSCALE)\n",
    "\n",
    "image = cv2.imread(\n",
    "    \"clavo.jpg\",\n",
    "    cv2.IMREAD_GRAYSCALE\n",
    ")\n",
    "\n",
    "image = cv2.resize(image, (500, 500))\n",
    "# image_flatten = np.array(image).flatten()\n",
    "\n",
    "category, image_thresh, image_close, label_image = knn.predict([image], k=6)\n",
    "\n",
    "print(image.shape)\n",
    "print(image_thresh.shape)\n",
    "\n",
    "\n",
    "plt.figure()\n",
    "plt.subplot(2, 2, 1), plt.imshow(image, cmap=\"gray\")\n",
    "plt.subplot(2, 2, 2), plt.imshow(image_thresh, cmap=\"gray\")\n",
    "plt.subplot(2, 2, 3), plt.imshow(image_close, cmap=\"gray\")\n",
    "plt.subplot(2, 2, 4), plt.imshow(label_image, cmap=\"gray\")"
   ]
  }
 ],
 "metadata": {
  "kernelspec": {
   "display_name": "env",
   "language": "python",
   "name": "python3"
  },
  "language_info": {
   "codemirror_mode": {
    "name": "ipython",
    "version": 3
   },
   "file_extension": ".py",
   "mimetype": "text/x-python",
   "name": "python",
   "nbconvert_exporter": "python",
   "pygments_lexer": "ipython3",
   "version": "3.11.6"
  }
 },
 "nbformat": 4,
 "nbformat_minor": 2
}
