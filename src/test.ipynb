{
 "cells": [
  {
   "cell_type": "markdown",
   "metadata": {},
   "source": [
    "# KNN"
   ]
  },
  {
   "cell_type": "code",
   "execution_count": null,
   "metadata": {},
   "outputs": [],
   "source": [
    "\n",
    "from models.knn_classifier import KNNClassifier\n",
    "knn = KNNClassifier()\n"
   ]
  },
  {
   "cell_type": "code",
   "execution_count": null,
   "metadata": {},
   "outputs": [],
   "source": [
    "import cv2\n",
    "import numpy as np\n",
    "import matplotlib.pyplot as plt\n",
    "\n",
    "img = cv2.imread('../images/tornillos/tornillos0.jpg')\n",
    "gray = cv2.cvtColor(img, cv2.COLOR_BGR2GRAY)\n",
    "\n",
    "img_vec, category, object_length, images_dict = knn.predict(gray)\n",
    "\n",
    "print(\"KNN:\", category, object_length)\n",
    "\n",
    "del images_dict['label_image']\n",
    "fig = plt.figure(figsize=(15, 5))\n",
    "for i, img in enumerate(images_dict):\n",
    "    ax = fig.add_subplot(1, 4, i+1)\n",
    "    ax.imshow(cv2.cvtColor(images_dict[img], cv2.COLOR_BGR2RGB))\n",
    "    ax.set_title(img)\n",
    "    ax.axis('off')\n",
    "\n",
    "plt.show()"
   ]
  },
  {
   "cell_type": "markdown",
   "metadata": {},
   "source": [
    "# K Means"
   ]
  },
  {
   "cell_type": "code",
   "execution_count": null,
   "metadata": {},
   "outputs": [],
   "source": [
    "from models.kmeans_classifier import KMeansClassifier\n",
    "k_means = KMeansClassifier()"
   ]
  },
  {
   "cell_type": "code",
   "execution_count": null,
   "metadata": {},
   "outputs": [],
   "source": [
    "import cv2\n",
    "import numpy as np\n",
    "import matplotlib.pyplot as plt\n",
    "\n",
    "img = cv2.imread('../images/tornillos/tornillos0.jpg')\n",
    "gray = cv2.cvtColor(img, cv2.COLOR_BGR2GRAY)\n",
    "\n",
    "img_vec, final_centroids, category, object_length, images_dict = k_means.predict(gray)\n",
    "\n",
    "print(\"K Means:\", category, object_length)\n",
    "\n",
    "del images_dict['label_image']\n",
    "fig = plt.figure(figsize=(15, 5))\n",
    "for i, img in enumerate(images_dict):\n",
    "    ax = fig.add_subplot(1, 4, i+1)\n",
    "    ax.imshow(cv2.cvtColor(images_dict[img], cv2.COLOR_BGR2RGB))\n",
    "    ax.set_title(img)\n",
    "    ax.axis('off')\n",
    "\n",
    "plt.show()"
   ]
  },
  {
   "cell_type": "markdown",
   "metadata": {},
   "source": [
    "# Plots Comparativos"
   ]
  },
  {
   "cell_type": "code",
   "execution_count": null,
   "metadata": {},
   "outputs": [],
   "source": [
    "import cv2\n",
    "import numpy as np\n",
    "import matplotlib.pyplot as plt\n",
    "\n",
    "img = cv2.imread('../images/tornillos/tornillos0.jpg')\n",
    "gray = cv2.cvtColor(img, cv2.COLOR_BGR2GRAY)\n",
    "\n",
    "img_vec0, centroids, category0, object_length0, images_dict0 = k_means.predict(gray)\n",
    "img_vec, category, object_length, images_dict = knn.predict(gray)\n",
    "\n",
    "print(\"KMeans:\", category0, object_length0)\n",
    "print(\"KNN:\", category, object_length)\n",
    "\n",
    "plotKmeans = k_means.generate_data_plots(img_vec0, centroids)\n",
    "plotsKnn = knn.generate_data_plots(img_vec)\n",
    "\n",
    "fig = plt.figure(figsize=(20, 20))\n",
    "for i, (plot, title) in enumerate(zip([plotsKnn, plotKmeans], [\"K Nearest Neighbors\", \"K Means\"])):\n",
    "    ax = fig.add_subplot(1, 2, i+1)\n",
    "    plt.imshow(plot[\"plot_Momento de Hu 1 vs Excentricidad\"])\n",
    "    ax.set_title(title)\n",
    "    ax.grid(False)\n",
    "    ax.set_axis_off()\n",
    "\n",
    "plt.show()"
   ]
  }
 ],
 "metadata": {
  "kernelspec": {
   "display_name": "env",
   "language": "python",
   "name": "python3"
  },
  "language_info": {
   "codemirror_mode": {
    "name": "ipython",
    "version": 3
   },
   "file_extension": ".py",
   "mimetype": "text/x-python",
   "name": "python",
   "nbconvert_exporter": "python",
   "pygments_lexer": "ipython3",
   "version": "3.11.6"
  }
 },
 "nbformat": 4,
 "nbformat_minor": 2
}
